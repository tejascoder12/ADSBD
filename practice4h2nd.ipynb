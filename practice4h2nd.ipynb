{
 "cells": [
  {
   "cell_type": "code",
   "execution_count": 1,
   "id": "c50b1a8d",
   "metadata": {},
   "outputs": [],
   "source": [
    "import pandas as pd\n",
    "import numpy as np\n",
    "import matplotlib.pyplot as plt"
   ]
  },
  {
   "cell_type": "code",
   "execution_count": 3,
   "id": "57977261",
   "metadata": {},
   "outputs": [],
   "source": [
    "df=pd.read_csv(r\"C:\\Users\\tejas\\OneDrive\\Desktop\\dataSet\\Data-Science-and-Big-Data-Analytics-SPPU-2019-Pattern\\GroupA-Assignment4\\HousingData.csv\")"
   ]
  },
  {
   "cell_type": "code",
   "execution_count": 4,
   "id": "c9aa06cb",
   "metadata": {},
   "outputs": [
    {
     "data": {
      "text/html": [
       "<div>\n",
       "<style scoped>\n",
       "    .dataframe tbody tr th:only-of-type {\n",
       "        vertical-align: middle;\n",
       "    }\n",
       "\n",
       "    .dataframe tbody tr th {\n",
       "        vertical-align: top;\n",
       "    }\n",
       "\n",
       "    .dataframe thead th {\n",
       "        text-align: right;\n",
       "    }\n",
       "</style>\n",
       "<table border=\"1\" class=\"dataframe\">\n",
       "  <thead>\n",
       "    <tr style=\"text-align: right;\">\n",
       "      <th></th>\n",
       "      <th>CRIM</th>\n",
       "      <th>ZN</th>\n",
       "      <th>INDUS</th>\n",
       "      <th>CHAS</th>\n",
       "      <th>NOX</th>\n",
       "      <th>RM</th>\n",
       "      <th>AGE</th>\n",
       "      <th>DIS</th>\n",
       "      <th>RAD</th>\n",
       "      <th>TAX</th>\n",
       "      <th>PTRATIO</th>\n",
       "      <th>B</th>\n",
       "      <th>LSTAT</th>\n",
       "      <th>MEDV</th>\n",
       "    </tr>\n",
       "  </thead>\n",
       "  <tbody>\n",
       "    <tr>\n",
       "      <th>0</th>\n",
       "      <td>0.00632</td>\n",
       "      <td>18.0</td>\n",
       "      <td>2.31</td>\n",
       "      <td>0.0</td>\n",
       "      <td>0.538</td>\n",
       "      <td>6.575</td>\n",
       "      <td>65.2</td>\n",
       "      <td>4.0900</td>\n",
       "      <td>1</td>\n",
       "      <td>296</td>\n",
       "      <td>15.3</td>\n",
       "      <td>396.90</td>\n",
       "      <td>4.98</td>\n",
       "      <td>24.0</td>\n",
       "    </tr>\n",
       "    <tr>\n",
       "      <th>1</th>\n",
       "      <td>0.02731</td>\n",
       "      <td>0.0</td>\n",
       "      <td>7.07</td>\n",
       "      <td>0.0</td>\n",
       "      <td>0.469</td>\n",
       "      <td>6.421</td>\n",
       "      <td>78.9</td>\n",
       "      <td>4.9671</td>\n",
       "      <td>2</td>\n",
       "      <td>242</td>\n",
       "      <td>17.8</td>\n",
       "      <td>396.90</td>\n",
       "      <td>9.14</td>\n",
       "      <td>21.6</td>\n",
       "    </tr>\n",
       "    <tr>\n",
       "      <th>2</th>\n",
       "      <td>0.02729</td>\n",
       "      <td>0.0</td>\n",
       "      <td>7.07</td>\n",
       "      <td>0.0</td>\n",
       "      <td>0.469</td>\n",
       "      <td>7.185</td>\n",
       "      <td>61.1</td>\n",
       "      <td>4.9671</td>\n",
       "      <td>2</td>\n",
       "      <td>242</td>\n",
       "      <td>17.8</td>\n",
       "      <td>392.83</td>\n",
       "      <td>4.03</td>\n",
       "      <td>34.7</td>\n",
       "    </tr>\n",
       "    <tr>\n",
       "      <th>3</th>\n",
       "      <td>0.03237</td>\n",
       "      <td>0.0</td>\n",
       "      <td>2.18</td>\n",
       "      <td>0.0</td>\n",
       "      <td>0.458</td>\n",
       "      <td>6.998</td>\n",
       "      <td>45.8</td>\n",
       "      <td>6.0622</td>\n",
       "      <td>3</td>\n",
       "      <td>222</td>\n",
       "      <td>18.7</td>\n",
       "      <td>394.63</td>\n",
       "      <td>2.94</td>\n",
       "      <td>33.4</td>\n",
       "    </tr>\n",
       "    <tr>\n",
       "      <th>4</th>\n",
       "      <td>0.06905</td>\n",
       "      <td>0.0</td>\n",
       "      <td>2.18</td>\n",
       "      <td>0.0</td>\n",
       "      <td>0.458</td>\n",
       "      <td>7.147</td>\n",
       "      <td>54.2</td>\n",
       "      <td>6.0622</td>\n",
       "      <td>3</td>\n",
       "      <td>222</td>\n",
       "      <td>18.7</td>\n",
       "      <td>396.90</td>\n",
       "      <td>NaN</td>\n",
       "      <td>36.2</td>\n",
       "    </tr>\n",
       "    <tr>\n",
       "      <th>...</th>\n",
       "      <td>...</td>\n",
       "      <td>...</td>\n",
       "      <td>...</td>\n",
       "      <td>...</td>\n",
       "      <td>...</td>\n",
       "      <td>...</td>\n",
       "      <td>...</td>\n",
       "      <td>...</td>\n",
       "      <td>...</td>\n",
       "      <td>...</td>\n",
       "      <td>...</td>\n",
       "      <td>...</td>\n",
       "      <td>...</td>\n",
       "      <td>...</td>\n",
       "    </tr>\n",
       "    <tr>\n",
       "      <th>501</th>\n",
       "      <td>0.06263</td>\n",
       "      <td>0.0</td>\n",
       "      <td>11.93</td>\n",
       "      <td>0.0</td>\n",
       "      <td>0.573</td>\n",
       "      <td>6.593</td>\n",
       "      <td>69.1</td>\n",
       "      <td>2.4786</td>\n",
       "      <td>1</td>\n",
       "      <td>273</td>\n",
       "      <td>21.0</td>\n",
       "      <td>391.99</td>\n",
       "      <td>NaN</td>\n",
       "      <td>22.4</td>\n",
       "    </tr>\n",
       "    <tr>\n",
       "      <th>502</th>\n",
       "      <td>0.04527</td>\n",
       "      <td>0.0</td>\n",
       "      <td>11.93</td>\n",
       "      <td>0.0</td>\n",
       "      <td>0.573</td>\n",
       "      <td>6.120</td>\n",
       "      <td>76.7</td>\n",
       "      <td>2.2875</td>\n",
       "      <td>1</td>\n",
       "      <td>273</td>\n",
       "      <td>21.0</td>\n",
       "      <td>396.90</td>\n",
       "      <td>9.08</td>\n",
       "      <td>20.6</td>\n",
       "    </tr>\n",
       "    <tr>\n",
       "      <th>503</th>\n",
       "      <td>0.06076</td>\n",
       "      <td>0.0</td>\n",
       "      <td>11.93</td>\n",
       "      <td>0.0</td>\n",
       "      <td>0.573</td>\n",
       "      <td>6.976</td>\n",
       "      <td>91.0</td>\n",
       "      <td>2.1675</td>\n",
       "      <td>1</td>\n",
       "      <td>273</td>\n",
       "      <td>21.0</td>\n",
       "      <td>396.90</td>\n",
       "      <td>5.64</td>\n",
       "      <td>23.9</td>\n",
       "    </tr>\n",
       "    <tr>\n",
       "      <th>504</th>\n",
       "      <td>0.10959</td>\n",
       "      <td>0.0</td>\n",
       "      <td>11.93</td>\n",
       "      <td>0.0</td>\n",
       "      <td>0.573</td>\n",
       "      <td>6.794</td>\n",
       "      <td>89.3</td>\n",
       "      <td>2.3889</td>\n",
       "      <td>1</td>\n",
       "      <td>273</td>\n",
       "      <td>21.0</td>\n",
       "      <td>393.45</td>\n",
       "      <td>6.48</td>\n",
       "      <td>22.0</td>\n",
       "    </tr>\n",
       "    <tr>\n",
       "      <th>505</th>\n",
       "      <td>0.04741</td>\n",
       "      <td>0.0</td>\n",
       "      <td>11.93</td>\n",
       "      <td>0.0</td>\n",
       "      <td>0.573</td>\n",
       "      <td>6.030</td>\n",
       "      <td>NaN</td>\n",
       "      <td>2.5050</td>\n",
       "      <td>1</td>\n",
       "      <td>273</td>\n",
       "      <td>21.0</td>\n",
       "      <td>396.90</td>\n",
       "      <td>7.88</td>\n",
       "      <td>11.9</td>\n",
       "    </tr>\n",
       "  </tbody>\n",
       "</table>\n",
       "<p>506 rows × 14 columns</p>\n",
       "</div>"
      ],
      "text/plain": [
       "        CRIM    ZN  INDUS  CHAS    NOX     RM   AGE     DIS  RAD  TAX  \\\n",
       "0    0.00632  18.0   2.31   0.0  0.538  6.575  65.2  4.0900    1  296   \n",
       "1    0.02731   0.0   7.07   0.0  0.469  6.421  78.9  4.9671    2  242   \n",
       "2    0.02729   0.0   7.07   0.0  0.469  7.185  61.1  4.9671    2  242   \n",
       "3    0.03237   0.0   2.18   0.0  0.458  6.998  45.8  6.0622    3  222   \n",
       "4    0.06905   0.0   2.18   0.0  0.458  7.147  54.2  6.0622    3  222   \n",
       "..       ...   ...    ...   ...    ...    ...   ...     ...  ...  ...   \n",
       "501  0.06263   0.0  11.93   0.0  0.573  6.593  69.1  2.4786    1  273   \n",
       "502  0.04527   0.0  11.93   0.0  0.573  6.120  76.7  2.2875    1  273   \n",
       "503  0.06076   0.0  11.93   0.0  0.573  6.976  91.0  2.1675    1  273   \n",
       "504  0.10959   0.0  11.93   0.0  0.573  6.794  89.3  2.3889    1  273   \n",
       "505  0.04741   0.0  11.93   0.0  0.573  6.030   NaN  2.5050    1  273   \n",
       "\n",
       "     PTRATIO       B  LSTAT  MEDV  \n",
       "0       15.3  396.90   4.98  24.0  \n",
       "1       17.8  396.90   9.14  21.6  \n",
       "2       17.8  392.83   4.03  34.7  \n",
       "3       18.7  394.63   2.94  33.4  \n",
       "4       18.7  396.90    NaN  36.2  \n",
       "..       ...     ...    ...   ...  \n",
       "501     21.0  391.99    NaN  22.4  \n",
       "502     21.0  396.90   9.08  20.6  \n",
       "503     21.0  396.90   5.64  23.9  \n",
       "504     21.0  393.45   6.48  22.0  \n",
       "505     21.0  396.90   7.88  11.9  \n",
       "\n",
       "[506 rows x 14 columns]"
      ]
     },
     "execution_count": 4,
     "metadata": {},
     "output_type": "execute_result"
    }
   ],
   "source": [
    "df"
   ]
  },
  {
   "cell_type": "code",
   "execution_count": 5,
   "id": "8dbe7617",
   "metadata": {},
   "outputs": [
    {
     "data": {
      "text/plain": [
       "CRIM       20\n",
       "ZN         20\n",
       "INDUS      20\n",
       "CHAS       20\n",
       "NOX         0\n",
       "RM          0\n",
       "AGE        20\n",
       "DIS         0\n",
       "RAD         0\n",
       "TAX         0\n",
       "PTRATIO     0\n",
       "B           0\n",
       "LSTAT      20\n",
       "MEDV        0\n",
       "dtype: int64"
      ]
     },
     "execution_count": 5,
     "metadata": {},
     "output_type": "execute_result"
    }
   ],
   "source": [
    "df.isnull().sum()"
   ]
  },
  {
   "cell_type": "code",
   "execution_count": 6,
   "id": "846ee81e",
   "metadata": {},
   "outputs": [],
   "source": [
    "df['CRIM'].fillna(df['CRIM'].mean(),inplace=True)\n",
    "df['ZN'].fillna(df['ZN'].mean(),inplace=True)\n",
    "df['INDUS'].fillna(df['INDUS'].mean(),inplace=True)\n",
    "df['AGE'].fillna(df['AGE'].mean(),inplace=True)\n",
    "df['LSTAT'].fillna(df['LSTAT'].mean(),inplace=True)\n"
   ]
  },
  {
   "cell_type": "code",
   "execution_count": 8,
   "id": "6c3b6ead",
   "metadata": {},
   "outputs": [
    {
     "data": {
      "text/plain": [
       "CRIM        0\n",
       "ZN          0\n",
       "INDUS       0\n",
       "CHAS       20\n",
       "NOX         0\n",
       "RM          0\n",
       "AGE         0\n",
       "DIS         0\n",
       "RAD         0\n",
       "TAX         0\n",
       "PTRATIO     0\n",
       "B           0\n",
       "LSTAT       0\n",
       "MEDV        0\n",
       "dtype: int64"
      ]
     },
     "execution_count": 8,
     "metadata": {},
     "output_type": "execute_result"
    }
   ],
   "source": [
    "df.isnull().sum()"
   ]
  },
  {
   "cell_type": "code",
   "execution_count": 9,
   "id": "b17c9e18",
   "metadata": {},
   "outputs": [],
   "source": [
    "df['CHAS'].fillna(df['CHAS'].mean(),inplace=True)"
   ]
  },
  {
   "cell_type": "code",
   "execution_count": 11,
   "id": "1cdfa1f1",
   "metadata": {},
   "outputs": [
    {
     "data": {
      "text/html": [
       "<div>\n",
       "<style scoped>\n",
       "    .dataframe tbody tr th:only-of-type {\n",
       "        vertical-align: middle;\n",
       "    }\n",
       "\n",
       "    .dataframe tbody tr th {\n",
       "        vertical-align: top;\n",
       "    }\n",
       "\n",
       "    .dataframe thead th {\n",
       "        text-align: right;\n",
       "    }\n",
       "</style>\n",
       "<table border=\"1\" class=\"dataframe\">\n",
       "  <thead>\n",
       "    <tr style=\"text-align: right;\">\n",
       "      <th></th>\n",
       "      <th>CRIM</th>\n",
       "      <th>ZN</th>\n",
       "      <th>INDUS</th>\n",
       "      <th>CHAS</th>\n",
       "      <th>NOX</th>\n",
       "      <th>RM</th>\n",
       "      <th>AGE</th>\n",
       "      <th>DIS</th>\n",
       "      <th>RAD</th>\n",
       "      <th>TAX</th>\n",
       "      <th>PTRATIO</th>\n",
       "      <th>B</th>\n",
       "      <th>LSTAT</th>\n",
       "    </tr>\n",
       "  </thead>\n",
       "  <tbody>\n",
       "    <tr>\n",
       "      <th>0</th>\n",
       "      <td>0.00632</td>\n",
       "      <td>18.0</td>\n",
       "      <td>2.31</td>\n",
       "      <td>0.0</td>\n",
       "      <td>0.538</td>\n",
       "      <td>6.575</td>\n",
       "      <td>65.200000</td>\n",
       "      <td>4.0900</td>\n",
       "      <td>1</td>\n",
       "      <td>296</td>\n",
       "      <td>15.3</td>\n",
       "      <td>396.90</td>\n",
       "      <td>4.980000</td>\n",
       "    </tr>\n",
       "    <tr>\n",
       "      <th>1</th>\n",
       "      <td>0.02731</td>\n",
       "      <td>0.0</td>\n",
       "      <td>7.07</td>\n",
       "      <td>0.0</td>\n",
       "      <td>0.469</td>\n",
       "      <td>6.421</td>\n",
       "      <td>78.900000</td>\n",
       "      <td>4.9671</td>\n",
       "      <td>2</td>\n",
       "      <td>242</td>\n",
       "      <td>17.8</td>\n",
       "      <td>396.90</td>\n",
       "      <td>9.140000</td>\n",
       "    </tr>\n",
       "    <tr>\n",
       "      <th>2</th>\n",
       "      <td>0.02729</td>\n",
       "      <td>0.0</td>\n",
       "      <td>7.07</td>\n",
       "      <td>0.0</td>\n",
       "      <td>0.469</td>\n",
       "      <td>7.185</td>\n",
       "      <td>61.100000</td>\n",
       "      <td>4.9671</td>\n",
       "      <td>2</td>\n",
       "      <td>242</td>\n",
       "      <td>17.8</td>\n",
       "      <td>392.83</td>\n",
       "      <td>4.030000</td>\n",
       "    </tr>\n",
       "    <tr>\n",
       "      <th>3</th>\n",
       "      <td>0.03237</td>\n",
       "      <td>0.0</td>\n",
       "      <td>2.18</td>\n",
       "      <td>0.0</td>\n",
       "      <td>0.458</td>\n",
       "      <td>6.998</td>\n",
       "      <td>45.800000</td>\n",
       "      <td>6.0622</td>\n",
       "      <td>3</td>\n",
       "      <td>222</td>\n",
       "      <td>18.7</td>\n",
       "      <td>394.63</td>\n",
       "      <td>2.940000</td>\n",
       "    </tr>\n",
       "    <tr>\n",
       "      <th>4</th>\n",
       "      <td>0.06905</td>\n",
       "      <td>0.0</td>\n",
       "      <td>2.18</td>\n",
       "      <td>0.0</td>\n",
       "      <td>0.458</td>\n",
       "      <td>7.147</td>\n",
       "      <td>54.200000</td>\n",
       "      <td>6.0622</td>\n",
       "      <td>3</td>\n",
       "      <td>222</td>\n",
       "      <td>18.7</td>\n",
       "      <td>396.90</td>\n",
       "      <td>12.715432</td>\n",
       "    </tr>\n",
       "    <tr>\n",
       "      <th>...</th>\n",
       "      <td>...</td>\n",
       "      <td>...</td>\n",
       "      <td>...</td>\n",
       "      <td>...</td>\n",
       "      <td>...</td>\n",
       "      <td>...</td>\n",
       "      <td>...</td>\n",
       "      <td>...</td>\n",
       "      <td>...</td>\n",
       "      <td>...</td>\n",
       "      <td>...</td>\n",
       "      <td>...</td>\n",
       "      <td>...</td>\n",
       "    </tr>\n",
       "    <tr>\n",
       "      <th>501</th>\n",
       "      <td>0.06263</td>\n",
       "      <td>0.0</td>\n",
       "      <td>11.93</td>\n",
       "      <td>0.0</td>\n",
       "      <td>0.573</td>\n",
       "      <td>6.593</td>\n",
       "      <td>69.100000</td>\n",
       "      <td>2.4786</td>\n",
       "      <td>1</td>\n",
       "      <td>273</td>\n",
       "      <td>21.0</td>\n",
       "      <td>391.99</td>\n",
       "      <td>12.715432</td>\n",
       "    </tr>\n",
       "    <tr>\n",
       "      <th>502</th>\n",
       "      <td>0.04527</td>\n",
       "      <td>0.0</td>\n",
       "      <td>11.93</td>\n",
       "      <td>0.0</td>\n",
       "      <td>0.573</td>\n",
       "      <td>6.120</td>\n",
       "      <td>76.700000</td>\n",
       "      <td>2.2875</td>\n",
       "      <td>1</td>\n",
       "      <td>273</td>\n",
       "      <td>21.0</td>\n",
       "      <td>396.90</td>\n",
       "      <td>9.080000</td>\n",
       "    </tr>\n",
       "    <tr>\n",
       "      <th>503</th>\n",
       "      <td>0.06076</td>\n",
       "      <td>0.0</td>\n",
       "      <td>11.93</td>\n",
       "      <td>0.0</td>\n",
       "      <td>0.573</td>\n",
       "      <td>6.976</td>\n",
       "      <td>91.000000</td>\n",
       "      <td>2.1675</td>\n",
       "      <td>1</td>\n",
       "      <td>273</td>\n",
       "      <td>21.0</td>\n",
       "      <td>396.90</td>\n",
       "      <td>5.640000</td>\n",
       "    </tr>\n",
       "    <tr>\n",
       "      <th>504</th>\n",
       "      <td>0.10959</td>\n",
       "      <td>0.0</td>\n",
       "      <td>11.93</td>\n",
       "      <td>0.0</td>\n",
       "      <td>0.573</td>\n",
       "      <td>6.794</td>\n",
       "      <td>89.300000</td>\n",
       "      <td>2.3889</td>\n",
       "      <td>1</td>\n",
       "      <td>273</td>\n",
       "      <td>21.0</td>\n",
       "      <td>393.45</td>\n",
       "      <td>6.480000</td>\n",
       "    </tr>\n",
       "    <tr>\n",
       "      <th>505</th>\n",
       "      <td>0.04741</td>\n",
       "      <td>0.0</td>\n",
       "      <td>11.93</td>\n",
       "      <td>0.0</td>\n",
       "      <td>0.573</td>\n",
       "      <td>6.030</td>\n",
       "      <td>68.518519</td>\n",
       "      <td>2.5050</td>\n",
       "      <td>1</td>\n",
       "      <td>273</td>\n",
       "      <td>21.0</td>\n",
       "      <td>396.90</td>\n",
       "      <td>7.880000</td>\n",
       "    </tr>\n",
       "  </tbody>\n",
       "</table>\n",
       "<p>506 rows × 13 columns</p>\n",
       "</div>"
      ],
      "text/plain": [
       "        CRIM    ZN  INDUS  CHAS    NOX     RM        AGE     DIS  RAD  TAX  \\\n",
       "0    0.00632  18.0   2.31   0.0  0.538  6.575  65.200000  4.0900    1  296   \n",
       "1    0.02731   0.0   7.07   0.0  0.469  6.421  78.900000  4.9671    2  242   \n",
       "2    0.02729   0.0   7.07   0.0  0.469  7.185  61.100000  4.9671    2  242   \n",
       "3    0.03237   0.0   2.18   0.0  0.458  6.998  45.800000  6.0622    3  222   \n",
       "4    0.06905   0.0   2.18   0.0  0.458  7.147  54.200000  6.0622    3  222   \n",
       "..       ...   ...    ...   ...    ...    ...        ...     ...  ...  ...   \n",
       "501  0.06263   0.0  11.93   0.0  0.573  6.593  69.100000  2.4786    1  273   \n",
       "502  0.04527   0.0  11.93   0.0  0.573  6.120  76.700000  2.2875    1  273   \n",
       "503  0.06076   0.0  11.93   0.0  0.573  6.976  91.000000  2.1675    1  273   \n",
       "504  0.10959   0.0  11.93   0.0  0.573  6.794  89.300000  2.3889    1  273   \n",
       "505  0.04741   0.0  11.93   0.0  0.573  6.030  68.518519  2.5050    1  273   \n",
       "\n",
       "     PTRATIO       B      LSTAT  \n",
       "0       15.3  396.90   4.980000  \n",
       "1       17.8  396.90   9.140000  \n",
       "2       17.8  392.83   4.030000  \n",
       "3       18.7  394.63   2.940000  \n",
       "4       18.7  396.90  12.715432  \n",
       "..       ...     ...        ...  \n",
       "501     21.0  391.99  12.715432  \n",
       "502     21.0  396.90   9.080000  \n",
       "503     21.0  396.90   5.640000  \n",
       "504     21.0  393.45   6.480000  \n",
       "505     21.0  396.90   7.880000  \n",
       "\n",
       "[506 rows x 13 columns]"
      ]
     },
     "execution_count": 11,
     "metadata": {},
     "output_type": "execute_result"
    }
   ],
   "source": [
    "x=df.drop(['MEDV'],axis=1)\n",
    "x"
   ]
  },
  {
   "cell_type": "code",
   "execution_count": 12,
   "id": "cf807da2",
   "metadata": {},
   "outputs": [
    {
     "data": {
      "text/plain": [
       "0      24.0\n",
       "1      21.6\n",
       "2      34.7\n",
       "3      33.4\n",
       "4      36.2\n",
       "       ... \n",
       "501    22.4\n",
       "502    20.6\n",
       "503    23.9\n",
       "504    22.0\n",
       "505    11.9\n",
       "Name: MEDV, Length: 506, dtype: float64"
      ]
     },
     "execution_count": 12,
     "metadata": {},
     "output_type": "execute_result"
    }
   ],
   "source": [
    "y=df['MEDV']\n",
    "y"
   ]
  },
  {
   "cell_type": "code",
   "execution_count": 13,
   "id": "0f516bd0",
   "metadata": {},
   "outputs": [],
   "source": [
    "from sklearn.model_selection import train_test_split\n",
    "xtrain,xtest,ytrain,ytest=train_test_split(x,y,test_size=0.2,random_state=0)"
   ]
  },
  {
   "cell_type": "code",
   "execution_count": 15,
   "id": "a050c16d",
   "metadata": {},
   "outputs": [
    {
     "data": {
      "text/plain": [
       "LinearRegression()"
      ]
     },
     "execution_count": 15,
     "metadata": {},
     "output_type": "execute_result"
    }
   ],
   "source": [
    "from sklearn.linear_model import LinearRegression\n",
    "lm=LinearRegression()\n",
    "lm.fit(xtrain,ytrain)"
   ]
  },
  {
   "cell_type": "code",
   "execution_count": 16,
   "id": "b7666ea0",
   "metadata": {},
   "outputs": [],
   "source": [
    "ytrain_pred=lm.predict(xtrain)\n",
    "ytest_pred=lm.predict(xtest)"
   ]
  },
  {
   "cell_type": "code",
   "execution_count": 17,
   "id": "658399c6",
   "metadata": {},
   "outputs": [
    {
     "data": {
      "text/plain": [
       "array([32.81627321, 22.44810156, 28.03766232, 23.75733198,  6.50947414,\n",
       "       14.03444098, 22.08820099, 29.25415603, 32.5690748 , 13.05640904,\n",
       "       20.22623633, 21.50935141, 13.130115  , 23.97459357,  5.94369526,\n",
       "       19.18872715,  9.22208539, 45.332114  , 30.74904711, 17.36508271,\n",
       "       17.89690787, 21.8538289 , 23.41427455, 19.26643055, 35.0106092 ,\n",
       "       13.80465069, 20.97652211, 35.5947274 , 19.11750028, 13.64565313,\n",
       "       13.99390551, 22.3513967 , 14.97018808, 31.41563776, 25.42200597,\n",
       "       16.12261841, 24.8151741 ,  9.77305866, 14.99985459, 21.7069503 ,\n",
       "       33.07056401, 28.27079451, 24.99059687, 15.53957856, 31.8131073 ,\n",
       "       25.31962943, 14.20026892,  7.85538779, 27.95901931, 25.43216539,\n",
       "        5.06592749, 28.31123002, 16.96468964, 29.9148188 , 19.39108637,\n",
       "       16.30580326, 18.42774446, 12.95370034,  8.93495761, 19.25886782,\n",
       "       34.02016271, 32.86420157, 23.95497256, 20.14492197, 22.95083775,\n",
       "       26.67615398, 21.10735155, 17.74979344, 32.38278077, 10.58254731,\n",
       "       19.13318567, 31.64516362, 18.84520418, 15.78422296, 18.94046927,\n",
       "       15.11678414, 24.07458559, 23.66247081, 17.31713844, 13.21910258,\n",
       "       20.51857201, 24.22417338, 17.56807076, 25.39478716, 22.84498687,\n",
       "       28.06459103, 36.75378827, 16.43162613, 12.07850424, 35.04746739,\n",
       "       31.32063269, 20.48029146, 39.84323922, 28.61226369, 28.52233259,\n",
       "       17.5436698 , 26.81225348, 40.46530719, 27.56913544, 17.03883567,\n",
       "       37.52638916, 35.8229176 , 14.0961138 , 27.81731446, 21.94869655,\n",
       "       24.8818496 , 21.19719131, 23.45740081, 28.00487668, 29.57431557,\n",
       "       13.98506722, 26.16081663, 22.9901289 , 13.49729741, 14.06839936,\n",
       "       25.56540702, 19.52524407, 30.57606788, 10.04770818, 24.37160039,\n",
       "       17.17149942, 17.0112022 , 22.84937882, 21.67962795, 12.22063591,\n",
       "       25.20446182, 28.42197799, 20.75309338, 12.37886993, 25.11306051,\n",
       "       26.49461989, 25.70733316, 23.55013679, 25.89336895, 19.39553691,\n",
       "       20.85778701, 36.13738934, 21.1272548 , 36.28019204, 25.81708451,\n",
       "       20.90978431, 15.58319854, 31.98314685, 21.54080142, 28.05396355,\n",
       "       14.844027  , 32.73726538, 14.35524691,  1.67919971, 19.44711142,\n",
       "       13.87157102, 37.66832351, 16.30974204, 14.5549353 , 26.76951017,\n",
       "       23.52976973, 17.9629898 , 31.18728628, 25.18377746, 27.6157619 ,\n",
       "       24.80190806, 22.65264492, 22.46031495, 11.15172696, 20.91842234,\n",
       "       11.68647636, 17.73974341, 12.46032947, 27.77373401, 15.19251431,\n",
       "       15.99965125, 28.65756198, 14.46036826, 21.62746997, 12.64254329,\n",
       "       14.45555483, 23.36423324, 21.29797228, 14.93440596, 17.48649966,\n",
       "       13.45046456, 24.24295419, 12.50361345, 35.3211587 , 14.03760167,\n",
       "       43.21873439, 31.66742609, 34.8841818 , 22.01139076, 15.82180035,\n",
       "       26.85423351, 29.2313597 , 13.77457177, 26.727208  , 36.27945842,\n",
       "       16.83686285, 11.36251837, 34.42259379, 35.99230127, 17.96133076,\n",
       "       21.19847959, 18.52795439, 24.4993728 , 19.58258696, 27.1900666 ,\n",
       "       -4.30707212, 20.86540926, 32.56708668, 35.64347839, 25.17123763,\n",
       "       26.89080764, 20.27656175, 21.38857599, 15.98382948, 17.86132517,\n",
       "       21.07756281, 28.04291179, 19.96986817,  6.97597498, 16.23743192,\n",
       "       32.36451304, 35.49074744, 16.44786434, 18.93927412, 22.33854817,\n",
       "        6.31311559, 21.58666499, 23.55661668, 15.92257792, 18.47627952,\n",
       "       23.05203916, 27.21603015, 25.92177059, 32.83874569, 14.87693591,\n",
       "       28.97948914, 25.26104179, 21.07941467, 38.66910342, 20.48523852,\n",
       "       23.62439463, 22.76124186, 11.92347536, 19.99770627, 33.42769853,\n",
       "       24.80122075, 17.81400458, 33.31685947, 22.07230652, 28.71857835,\n",
       "       32.15452084, 36.60591303, 21.92092982, 24.10484055, 23.11676177,\n",
       "       32.01346165, 22.26638068, 18.36298427, 21.92771527, 29.11853042,\n",
       "       22.86612836, 22.06878986, 17.24027069, 17.3597754 , 16.97472858,\n",
       "       16.93337092, 16.77794732, 32.03226006, 23.32756224, 17.49983857,\n",
       "       19.30181049, 34.16756391, 14.14434098, 25.93018821, 17.01947728,\n",
       "       30.72513401, 30.03828448, 21.25506147, 20.3298965 , 36.06896982,\n",
       "       20.55702264, 33.38547011, 21.24908409, 31.57709481, 30.27897298,\n",
       "       37.42356288, 25.97972218, 21.09103073, 29.15810192, 15.96108991,\n",
       "       26.18276066, 21.50175208, 30.02080424, 10.53454993, 31.34892003,\n",
       "        6.17985967, 15.25781318, 20.54161826, 35.68172035, 31.93778897,\n",
       "       12.06580266, 13.62606496, 21.96053599, 34.80135807, 18.76201757,\n",
       "       18.62293267, 14.91881869, 25.48278612, 41.01931145, 25.34871174,\n",
       "       42.07887857, 25.45001621, 21.13187064, 12.07131249, 15.86997446,\n",
       "       14.20602197, 18.51957266,  3.01474407, 27.73065016, 26.41221664,\n",
       "       41.70198443, 21.64461258, 21.05335926, 34.0757984 , 32.95054801,\n",
       "        9.64398016, 24.85070793, 43.79024787, 21.78807344, 17.6920574 ,\n",
       "       26.16218871, 18.58628594,  6.34645098, 18.91507749, 35.66319094,\n",
       "       16.30328017, 23.75087974, 13.14594653, 24.39977842, 18.271     ,\n",
       "       17.18171595, 18.47353031, 33.00268863, 19.48068366, 29.83962214,\n",
       "       31.93425646, 41.60423999, 18.49648542, 16.12293921, 38.25510656,\n",
       "       17.76581487, 10.55196656, 14.7688579 , 25.35067163, 19.46964974,\n",
       "       16.46915179, 26.67604749, 13.37142686,  5.91891273, 18.71816701,\n",
       "       10.83757858, 28.50859921,  4.96207098, 28.66572375, 32.80875045,\n",
       "       22.61360755, 16.44226312, 17.93061892, 21.13503675, 34.02654674,\n",
       "       28.24386741, 19.33997782, 20.46592732,  6.76629059, 28.97480848,\n",
       "       25.03253899, 22.44360225, 13.7417905 , 24.80011236, 19.46303725,\n",
       "        8.97368226, 26.78806235, 16.0120091 , 31.5636985 , 31.99530544,\n",
       "       25.19164941, 18.43188624, 30.61644449, 21.28067267, 25.9311395 ,\n",
       "       24.31670018, 31.19585054, 24.60225016, 31.38261045, 17.64408955,\n",
       "       19.80887282, 18.65517922, 41.33253844, 25.56986444, 19.34047326,\n",
       "       33.40599414, 23.70130494, 18.3221544 , 23.25156216])"
      ]
     },
     "execution_count": 17,
     "metadata": {},
     "output_type": "execute_result"
    }
   ],
   "source": [
    "ytrain_pred"
   ]
  },
  {
   "cell_type": "code",
   "execution_count": 18,
   "id": "cbbbd500",
   "metadata": {},
   "outputs": [
    {
     "data": {
      "text/plain": [
       "array([26.175296  , 22.64747588, 29.1456294 , 11.52971235, 21.65312134,\n",
       "       19.42320699, 20.18413017, 21.46914355, 19.1985363 , 19.98228162,\n",
       "        4.32483046, 16.16891668, 16.87682404,  5.31232373, 39.36827861,\n",
       "       33.09358732, 21.9152876 , 36.61918436, 31.52676377, 23.52713482,\n",
       "       24.96022461, 23.69866912, 20.88033802, 30.55074901, 22.74081741,\n",
       "        8.66805959, 17.65119072, 17.93088633, 36.01223185, 21.16299556,\n",
       "       17.83464361, 17.43306603, 19.5240167 , 23.50605522, 28.97262793,\n",
       "       19.21808862, 11.23997435, 23.94256597, 17.86786717, 15.40849806,\n",
       "       26.3630836 , 21.5193299 , 23.78733694, 14.84041522, 23.9445175 ,\n",
       "       24.97067627, 20.11366175, 23.08636158, 10.42208266, 24.52832122,\n",
       "       21.60847326, 18.66228165, 24.53362832, 31.03502944, 12.97457826,\n",
       "       22.38536236, 21.34822822, 16.10928673, 12.37477824, 22.78596712,\n",
       "       18.28714824, 21.91802045, 32.49771603, 31.21256855, 17.47867791,\n",
       "       33.18861907, 19.17896285, 19.94662594, 20.17142015, 23.90228857,\n",
       "       22.81288844, 24.17911208, 30.83402844, 28.87481037, 25.14581721,\n",
       "        5.55072029, 37.0183454 , 24.15428003, 27.67587636, 19.63884644,\n",
       "       28.74874123, 18.83204358, 17.63305678, 37.97947167, 39.49507972,\n",
       "       24.17228966, 25.33605088, 16.75044819, 25.43224687, 16.65089426,\n",
       "       16.49186628, 13.37283452, 24.81689254, 31.21188699, 22.0891919 ,\n",
       "       20.49360168,  0.8229737 , 25.5004737 , 15.5481509 , 17.72901193,\n",
       "       25.77663998, 22.43131323])"
      ]
     },
     "execution_count": 18,
     "metadata": {},
     "output_type": "execute_result"
    }
   ],
   "source": [
    "ytest_pred"
   ]
  },
  {
   "cell_type": "code",
   "execution_count": 19,
   "id": "9eacb288",
   "metadata": {},
   "outputs": [
    {
     "data": {
      "text/plain": [
       "329    22.6\n",
       "371    50.0\n",
       "219    23.0\n",
       "403     8.3\n",
       "78     21.2\n",
       "       ... \n",
       "56     24.7\n",
       "455    14.1\n",
       "60     18.7\n",
       "213    28.1\n",
       "108    19.8\n",
       "Name: MEDV, Length: 102, dtype: float64"
      ]
     },
     "execution_count": 19,
     "metadata": {},
     "output_type": "execute_result"
    }
   ],
   "source": [
    "ytest"
   ]
  },
  {
   "cell_type": "code",
   "execution_count": 20,
   "id": "c2dad3c7",
   "metadata": {},
   "outputs": [
    {
     "data": {
      "text/plain": [
       "220    26.7\n",
       "71     21.7\n",
       "240    22.0\n",
       "6      22.9\n",
       "417    10.4\n",
       "       ... \n",
       "323    18.5\n",
       "192    36.4\n",
       "117    19.2\n",
       "47     16.6\n",
       "172    23.1\n",
       "Name: MEDV, Length: 404, dtype: float64"
      ]
     },
     "execution_count": 20,
     "metadata": {},
     "output_type": "execute_result"
    }
   ],
   "source": [
    "ytrain"
   ]
  },
  {
   "cell_type": "code",
   "execution_count": 24,
   "id": "4a9028d8",
   "metadata": {},
   "outputs": [],
   "source": [
    "df1=pd.DataFrame(ytrain_pred,ytrain)\n",
    "df2=pd.DataFrame(ytest_pred,ytest)"
   ]
  },
  {
   "cell_type": "code",
   "execution_count": 25,
   "id": "8ee18b5b",
   "metadata": {},
   "outputs": [
    {
     "data": {
      "text/html": [
       "<div>\n",
       "<style scoped>\n",
       "    .dataframe tbody tr th:only-of-type {\n",
       "        vertical-align: middle;\n",
       "    }\n",
       "\n",
       "    .dataframe tbody tr th {\n",
       "        vertical-align: top;\n",
       "    }\n",
       "\n",
       "    .dataframe thead th {\n",
       "        text-align: right;\n",
       "    }\n",
       "</style>\n",
       "<table border=\"1\" class=\"dataframe\">\n",
       "  <thead>\n",
       "    <tr style=\"text-align: right;\">\n",
       "      <th></th>\n",
       "      <th>0</th>\n",
       "    </tr>\n",
       "    <tr>\n",
       "      <th>MEDV</th>\n",
       "      <th></th>\n",
       "    </tr>\n",
       "  </thead>\n",
       "  <tbody>\n",
       "    <tr>\n",
       "      <th>26.7</th>\n",
       "      <td>32.816273</td>\n",
       "    </tr>\n",
       "    <tr>\n",
       "      <th>21.7</th>\n",
       "      <td>22.448102</td>\n",
       "    </tr>\n",
       "    <tr>\n",
       "      <th>22.0</th>\n",
       "      <td>28.037662</td>\n",
       "    </tr>\n",
       "    <tr>\n",
       "      <th>22.9</th>\n",
       "      <td>23.757332</td>\n",
       "    </tr>\n",
       "    <tr>\n",
       "      <th>10.4</th>\n",
       "      <td>6.509474</td>\n",
       "    </tr>\n",
       "    <tr>\n",
       "      <th>...</th>\n",
       "      <td>...</td>\n",
       "    </tr>\n",
       "    <tr>\n",
       "      <th>18.5</th>\n",
       "      <td>19.340473</td>\n",
       "    </tr>\n",
       "    <tr>\n",
       "      <th>36.4</th>\n",
       "      <td>33.405994</td>\n",
       "    </tr>\n",
       "    <tr>\n",
       "      <th>19.2</th>\n",
       "      <td>23.701305</td>\n",
       "    </tr>\n",
       "    <tr>\n",
       "      <th>16.6</th>\n",
       "      <td>18.322154</td>\n",
       "    </tr>\n",
       "    <tr>\n",
       "      <th>23.1</th>\n",
       "      <td>23.251562</td>\n",
       "    </tr>\n",
       "  </tbody>\n",
       "</table>\n",
       "<p>404 rows × 1 columns</p>\n",
       "</div>"
      ],
      "text/plain": [
       "              0\n",
       "MEDV           \n",
       "26.7  32.816273\n",
       "21.7  22.448102\n",
       "22.0  28.037662\n",
       "22.9  23.757332\n",
       "10.4   6.509474\n",
       "...         ...\n",
       "18.5  19.340473\n",
       "36.4  33.405994\n",
       "19.2  23.701305\n",
       "16.6  18.322154\n",
       "23.1  23.251562\n",
       "\n",
       "[404 rows x 1 columns]"
      ]
     },
     "execution_count": 25,
     "metadata": {},
     "output_type": "execute_result"
    }
   ],
   "source": [
    "df1"
   ]
  },
  {
   "cell_type": "code",
   "execution_count": 26,
   "id": "53bb60a6",
   "metadata": {},
   "outputs": [
    {
     "data": {
      "text/html": [
       "<div>\n",
       "<style scoped>\n",
       "    .dataframe tbody tr th:only-of-type {\n",
       "        vertical-align: middle;\n",
       "    }\n",
       "\n",
       "    .dataframe tbody tr th {\n",
       "        vertical-align: top;\n",
       "    }\n",
       "\n",
       "    .dataframe thead th {\n",
       "        text-align: right;\n",
       "    }\n",
       "</style>\n",
       "<table border=\"1\" class=\"dataframe\">\n",
       "  <thead>\n",
       "    <tr style=\"text-align: right;\">\n",
       "      <th></th>\n",
       "      <th>0</th>\n",
       "    </tr>\n",
       "    <tr>\n",
       "      <th>MEDV</th>\n",
       "      <th></th>\n",
       "    </tr>\n",
       "  </thead>\n",
       "  <tbody>\n",
       "    <tr>\n",
       "      <th>22.6</th>\n",
       "      <td>26.175296</td>\n",
       "    </tr>\n",
       "    <tr>\n",
       "      <th>50.0</th>\n",
       "      <td>22.647476</td>\n",
       "    </tr>\n",
       "    <tr>\n",
       "      <th>23.0</th>\n",
       "      <td>29.145629</td>\n",
       "    </tr>\n",
       "    <tr>\n",
       "      <th>8.3</th>\n",
       "      <td>11.529712</td>\n",
       "    </tr>\n",
       "    <tr>\n",
       "      <th>21.2</th>\n",
       "      <td>21.653121</td>\n",
       "    </tr>\n",
       "    <tr>\n",
       "      <th>...</th>\n",
       "      <td>...</td>\n",
       "    </tr>\n",
       "    <tr>\n",
       "      <th>24.7</th>\n",
       "      <td>25.500474</td>\n",
       "    </tr>\n",
       "    <tr>\n",
       "      <th>14.1</th>\n",
       "      <td>15.548151</td>\n",
       "    </tr>\n",
       "    <tr>\n",
       "      <th>18.7</th>\n",
       "      <td>17.729012</td>\n",
       "    </tr>\n",
       "    <tr>\n",
       "      <th>28.1</th>\n",
       "      <td>25.776640</td>\n",
       "    </tr>\n",
       "    <tr>\n",
       "      <th>19.8</th>\n",
       "      <td>22.431313</td>\n",
       "    </tr>\n",
       "  </tbody>\n",
       "</table>\n",
       "<p>102 rows × 1 columns</p>\n",
       "</div>"
      ],
      "text/plain": [
       "              0\n",
       "MEDV           \n",
       "22.6  26.175296\n",
       "50.0  22.647476\n",
       "23.0  29.145629\n",
       "8.3   11.529712\n",
       "21.2  21.653121\n",
       "...         ...\n",
       "24.7  25.500474\n",
       "14.1  15.548151\n",
       "18.7  17.729012\n",
       "28.1  25.776640\n",
       "19.8  22.431313\n",
       "\n",
       "[102 rows x 1 columns]"
      ]
     },
     "execution_count": 26,
     "metadata": {},
     "output_type": "execute_result"
    }
   ],
   "source": [
    "df2"
   ]
  },
  {
   "cell_type": "code",
   "execution_count": 29,
   "id": "0cc75251",
   "metadata": {},
   "outputs": [
    {
     "name": "stdout",
     "output_type": "stream",
     "text": [
      "20.01911591303659\n"
     ]
    }
   ],
   "source": [
    "from sklearn.metrics import mean_squared_error,r2_score\n",
    "mse=mean_squared_error(ytrain_pred,ytrain)\n",
    "print(mse)"
   ]
  },
  {
   "cell_type": "code",
   "execution_count": 30,
   "id": "78d343da",
   "metadata": {},
   "outputs": [
    {
     "name": "stdout",
     "output_type": "stream",
     "text": [
      "34.987389544238724\n"
     ]
    }
   ],
   "source": [
    "mse=mean_squared_error(ytest,ytest_pred)\n",
    "print(mse)"
   ]
  },
  {
   "cell_type": "code",
   "execution_count": 31,
   "id": "8a1e00f1",
   "metadata": {},
   "outputs": [],
   "source": [
    "r2=r2_score(ytrain_pred,ytrain)"
   ]
  },
  {
   "cell_type": "code",
   "execution_count": 32,
   "id": "e2d19ab6",
   "metadata": {},
   "outputs": [
    {
     "name": "stdout",
     "output_type": "stream",
     "text": [
      "0.6926028783591742\n"
     ]
    }
   ],
   "source": [
    "print(r2)"
   ]
  },
  {
   "cell_type": "code",
   "execution_count": 35,
   "id": "b3dd99bf",
   "metadata": {},
   "outputs": [
    {
     "data": {
      "image/png": "[encoded data removed]",
      "text/plain": [
       "<Figure size 640x480 with 1 Axes>"
      ]
     },
     "metadata": {},
     "output_type": "display_data"
    }
   ],
   "source": [
    "plt.scatter(ytrain_pred,ytrain, c='red',label=\"train value\")\n",
    "plt.scatter(ytest_pred,ytest, c='yellow',label=\"test\")\n",
    "plt.legend(loc='upper left')\n",
    "\n",
    "plt.plot()\n",
    "plt.show()"
   ]
  },
  {
   "cell_type": "code",
   "execution_count": 36,
   "id": "3c0702ac",
   "metadata": {},
   "outputs": [],
   "source": [
    "col=['MEDV']"
   ]
  },
  {
   "cell_type": "code",
   "execution_count": 37,
   "id": "f85c3a03",
   "metadata": {},
   "outputs": [
    {
     "data": {
      "text/plain": [
       "<AxesSubplot:>"
      ]
     },
     "execution_count": 37,
     "metadata": {},
     "output_type": "execute_result"
    },
    {
     "data": {
      "image/png": "[encoded data removed]",
      "text/plain": [
       "<Figure size 640x480 with 1 Axes>"
      ]
     },
     "metadata": {},
     "output_type": "display_data"
    }
   ],
   "source": [
    "df.boxplot(col)"
   ]
  },
  {
   "cell_type": "code",
   "execution_count": 38,
   "id": "e7b5ffd8",
   "metadata": {},
   "outputs": [],
   "source": [
    "s_score=sorted(df['MEDV'])"
   ]
  },
  {
   "cell_type": "code",
   "execution_count": 39,
   "id": "a44e97e2",
   "metadata": {},
   "outputs": [
    {
     "name": "stdout",
     "output_type": "stream",
     "text": [
      "[5.0, 5.0, 5.6, 6.3, 7.0, 7.0, 7.2, 7.2, 7.2, 7.4, 7.5, 8.1, 8.3, 8.3, 8.4, 8.4, 8.5, 8.5, 8.7, 8.8, 8.8, 9.5, 9.6, 9.7, 10.2, 10.2, 10.2, 10.4, 10.4, 10.5, 10.5, 10.8, 10.9, 10.9, 11.0, 11.3, 11.5, 11.7, 11.7, 11.8, 11.8, 11.9, 11.9, 12.0, 12.1, 12.3, 12.5, 12.6, 12.7, 12.7, 12.7, 12.8, 13.0, 13.1, 13.1, 13.1, 13.1, 13.2, 13.3, 13.3, 13.3, 13.4, 13.4, 13.4, 13.4, 13.5, 13.5, 13.6, 13.6, 13.8, 13.8, 13.8, 13.8, 13.8, 13.9, 13.9, 14.0, 14.1, 14.1, 14.1, 14.2, 14.3, 14.3, 14.4, 14.4, 14.5, 14.5, 14.5, 14.6, 14.6, 14.8, 14.9, 14.9, 14.9, 15.0, 15.0, 15.0, 15.1, 15.2, 15.2, 15.2, 15.3, 15.4, 15.4, 15.6, 15.6, 15.6, 15.6, 15.6, 15.7, 16.0, 16.1, 16.1, 16.1, 16.2, 16.2, 16.3, 16.4, 16.5, 16.5, 16.6, 16.6, 16.7, 16.7, 16.8, 16.8, 17.0, 17.1, 17.1, 17.1, 17.2, 17.2, 17.2, 17.3, 17.4, 17.4, 17.4, 17.5, 17.5, 17.5, 17.6, 17.7, 17.8, 17.8, 17.8, 17.8, 17.8, 17.9, 18.0, 18.1, 18.2, 18.2, 18.2, 18.3, 18.3, 18.4, 18.4, 18.4, 18.5, 18.5, 18.5, 18.5, 18.6, 18.6, 18.7, 18.7, 18.7, 18.8, 18.8, 18.9, 18.9, 18.9, 18.9, 19.0, 19.0, 19.1, 19.1, 19.1, 19.1, 19.2, 19.2, 19.3, 19.3, 19.3, 19.3, 19.3, 19.4, 19.4, 19.4, 19.4, 19.4, 19.4, 19.5, 19.5, 19.5, 19.5, 19.6, 19.6, 19.6, 19.6, 19.6, 19.7, 19.7, 19.8, 19.8, 19.8, 19.9, 19.9, 19.9, 19.9, 20.0, 20.0, 20.0, 20.0, 20.0, 20.1, 20.1, 20.1, 20.1, 20.1, 20.2, 20.2, 20.3, 20.3, 20.3, 20.3, 20.4, 20.4, 20.4, 20.4, 20.5, 20.5, 20.5, 20.6, 20.6, 20.6, 20.6, 20.6, 20.6, 20.7, 20.7, 20.8, 20.8, 20.8, 20.9, 20.9, 21.0, 21.0, 21.0, 21.1, 21.1, 21.2, 21.2, 21.2, 21.2, 21.2, 21.4, 21.4, 21.4, 21.4, 21.4, 21.5, 21.5, 21.6, 21.6, 21.7, 21.7, 21.7, 21.7, 21.7, 21.7, 21.7, 21.8, 21.8, 21.9, 21.9, 21.9, 22.0, 22.0, 22.0, 22.0, 22.0, 22.0, 22.0, 22.1, 22.2, 22.2, 22.2, 22.2, 22.2, 22.3, 22.3, 22.4, 22.4, 22.5, 22.5, 22.5, 22.6, 22.6, 22.6, 22.6, 22.6, 22.7, 22.7, 22.8, 22.8, 22.8, 22.8, 22.9, 22.9, 22.9, 22.9, 23.0, 23.0, 23.0, 23.0, 23.1, 23.1, 23.1, 23.1, 23.1, 23.1, 23.1, 23.2, 23.2, 23.2, 23.2, 23.3, 23.3, 23.3, 23.3, 23.4, 23.4, 23.5, 23.6, 23.6, 23.7, 23.7, 23.7, 23.7, 23.8, 23.8, 23.8, 23.8, 23.9, 23.9, 23.9, 23.9, 23.9, 24.0, 24.0, 24.1, 24.1, 24.1, 24.2, 24.3, 24.3, 24.3, 24.4, 24.4, 24.4, 24.4, 24.5, 24.5, 24.5, 24.6, 24.6, 24.7, 24.7, 24.7, 24.8, 24.8, 24.8, 24.8, 25.0, 25.0, 25.0, 25.0, 25.0, 25.0, 25.0, 25.0, 25.1, 25.2, 25.3, 26.2, 26.4, 26.4, 26.5, 26.6, 26.6, 26.6, 26.7, 27.0, 27.1, 27.1, 27.5, 27.5, 27.5, 27.5, 27.9, 27.9, 28.0, 28.1, 28.2, 28.4, 28.4, 28.5, 28.6, 28.7, 28.7, 28.7, 29.0, 29.0, 29.1, 29.1, 29.4, 29.6, 29.6, 29.8, 29.8, 29.9, 30.1, 30.1, 30.1, 30.3, 30.5, 30.7, 30.8, 31.0, 31.1, 31.2, 31.5, 31.5, 31.6, 31.6, 31.7, 32.0, 32.0, 32.2, 32.4, 32.5, 32.7, 32.9, 33.0, 33.1, 33.1, 33.2, 33.2, 33.3, 33.4, 33.4, 33.8, 34.6, 34.7, 34.9, 34.9, 34.9, 35.1, 35.2, 35.4, 35.4, 36.0, 36.1, 36.2, 36.2, 36.4, 36.5, 37.0, 37.2, 37.3, 37.6, 37.9, 38.7, 39.8, 41.3, 41.7, 42.3, 42.8, 43.1, 43.5, 43.8, 44.0, 44.8, 45.4, 46.0, 46.7, 48.3, 48.5, 48.8, 50.0, 50.0, 50.0, 50.0, 50.0, 50.0, 50.0, 50.0, 50.0, 50.0, 50.0, 50.0, 50.0, 50.0, 50.0, 50.0]\n"
     ]
    }
   ],
   "source": [
    "print(s_score)"
   ]
  },
  {
   "cell_type": "code",
   "execution_count": 40,
   "id": "68ebf2e8",
   "metadata": {},
   "outputs": [
    {
     "name": "stdout",
     "output_type": "stream",
     "text": [
      "17.025 25.0\n"
     ]
    }
   ],
   "source": [
    "q1=np.percentile(s_score,25)\n",
    "q3=np.percentile(s_score,75)\n",
    "print(q1,q3)"
   ]
  },
  {
   "cell_type": "code",
   "execution_count": 41,
   "id": "4fe672ea",
   "metadata": {},
   "outputs": [
    {
     "name": "stdout",
     "output_type": "stream",
     "text": [
      "7.975000000000001\n"
     ]
    }
   ],
   "source": [
    "iqr=q3-q1\n",
    "print(iqr)"
   ]
  },
  {
   "cell_type": "code",
   "execution_count": 42,
   "id": "e68e353b",
   "metadata": {},
   "outputs": [
    {
     "name": "stdout",
     "output_type": "stream",
     "text": [
      "-5.0624999999999964 36.962500000000006\n"
     ]
    }
   ],
   "source": [
    "l_bound=1.5*iqr-q1\n",
    "u_bound=1.5*iqr+q3\n",
    "print(l_bound,u_bound)"
   ]
  },
  {
   "cell_type": "code",
   "execution_count": 44,
   "id": "3dbb696f",
   "metadata": {},
   "outputs": [
    {
     "name": "stdout",
     "output_type": "stream",
     "text": [
      "[37.0, 37.2, 37.3, 37.6, 37.9, 38.7, 39.8, 41.3, 41.7, 42.3, 42.8, 43.1, 43.5, 43.8, 44.0, 44.8, 45.4, 46.0, 46.7, 48.3, 48.5, 48.8, 50.0, 50.0, 50.0, 50.0, 50.0, 50.0, 50.0, 50.0, 50.0, 50.0, 50.0, 50.0, 50.0, 50.0, 50.0, 50.0]\n"
     ]
    }
   ],
   "source": [
    "r_score=[]\n",
    "for i in s_score:\n",
    "    if i<l_bound or i>u_bound:\n",
    "        r_score.append(i)\n",
    "print(r_score)"
   ]
  },
  {
   "cell_type": "markdown",
   "id": "aa4719a7",
   "metadata": {},
   "source": []
  }
 ],
 "metadata": {
  "kernelspec": {
   "display_name": "Python 3 (ipykernel)",
   "language": "python",
   "name": "python3"
  },
  "language_info": {
   "codemirror_mode": {
    "name": "ipython",
    "version": 3
   },
   "file_extension": ".py",
   "mimetype": "text/x-python",
   "name": "python",
   "nbconvert_exporter": "python",
   "pygments_lexer": "ipython3",
   "version": "3.9.13"
  }
 },
 "nbformat": 4,
 "nbformat_minor": 5
}
