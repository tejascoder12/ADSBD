{
 "cells": [
  {
   "cell_type": "code",
   "execution_count": 1,
   "id": "ee1dee58",
   "metadata": {},
   "outputs": [],
   "source": [
    "import numpy as np\n",
    "import pandas as pd\n",
    "import matplotlib.pyplot as plt\n"
   ]
  },
  {
   "cell_type": "code",
   "execution_count": 2,
   "id": "9a06557e",
   "metadata": {},
   "outputs": [],
   "source": [
    "df=pd.read_csv(r\"C:\\Users\\tejas\\OneDrive\\Desktop\\dataSet\\Data-Science-and-Big-Data-Analytics-SPPU-2019-Pattern\\GroupA-Assignment5\\Social_Network_Ads.csv\")"
   ]
  },
  {
   "cell_type": "code",
   "execution_count": 3,
   "id": "361de171",
   "metadata": {},
   "outputs": [
    {
     "data": {
      "text/html": [
       "<div>\n",
       "<style scoped>\n",
       "    .dataframe tbody tr th:only-of-type {\n",
       "        vertical-align: middle;\n",
       "    }\n",
       "\n",
       "    .dataframe tbody tr th {\n",
       "        vertical-align: top;\n",
       "    }\n",
       "\n",
       "    .dataframe thead th {\n",
       "        text-align: right;\n",
       "    }\n",
       "</style>\n",
       "<table border=\"1\" class=\"dataframe\">\n",
       "  <thead>\n",
       "    <tr style=\"text-align: right;\">\n",
       "      <th></th>\n",
       "      <th>User ID</th>\n",
       "      <th>Gender</th>\n",
       "      <th>Age</th>\n",
       "      <th>EstimatedSalary</th>\n",
       "      <th>Purchased</th>\n",
       "    </tr>\n",
       "  </thead>\n",
       "  <tbody>\n",
       "    <tr>\n",
       "      <th>0</th>\n",
       "      <td>15624510</td>\n",
       "      <td>Male</td>\n",
       "      <td>19</td>\n",
       "      <td>19000</td>\n",
       "      <td>0</td>\n",
       "    </tr>\n",
       "    <tr>\n",
       "      <th>1</th>\n",
       "      <td>15810944</td>\n",
       "      <td>Male</td>\n",
       "      <td>35</td>\n",
       "      <td>20000</td>\n",
       "      <td>0</td>\n",
       "    </tr>\n",
       "    <tr>\n",
       "      <th>2</th>\n",
       "      <td>15668575</td>\n",
       "      <td>Female</td>\n",
       "      <td>26</td>\n",
       "      <td>43000</td>\n",
       "      <td>0</td>\n",
       "    </tr>\n",
       "    <tr>\n",
       "      <th>3</th>\n",
       "      <td>15603246</td>\n",
       "      <td>Female</td>\n",
       "      <td>27</td>\n",
       "      <td>57000</td>\n",
       "      <td>0</td>\n",
       "    </tr>\n",
       "    <tr>\n",
       "      <th>4</th>\n",
       "      <td>15804002</td>\n",
       "      <td>Male</td>\n",
       "      <td>19</td>\n",
       "      <td>76000</td>\n",
       "      <td>0</td>\n",
       "    </tr>\n",
       "    <tr>\n",
       "      <th>...</th>\n",
       "      <td>...</td>\n",
       "      <td>...</td>\n",
       "      <td>...</td>\n",
       "      <td>...</td>\n",
       "      <td>...</td>\n",
       "    </tr>\n",
       "    <tr>\n",
       "      <th>395</th>\n",
       "      <td>15691863</td>\n",
       "      <td>Female</td>\n",
       "      <td>46</td>\n",
       "      <td>41000</td>\n",
       "      <td>1</td>\n",
       "    </tr>\n",
       "    <tr>\n",
       "      <th>396</th>\n",
       "      <td>15706071</td>\n",
       "      <td>Male</td>\n",
       "      <td>51</td>\n",
       "      <td>23000</td>\n",
       "      <td>1</td>\n",
       "    </tr>\n",
       "    <tr>\n",
       "      <th>397</th>\n",
       "      <td>15654296</td>\n",
       "      <td>Female</td>\n",
       "      <td>50</td>\n",
       "      <td>20000</td>\n",
       "      <td>1</td>\n",
       "    </tr>\n",
       "    <tr>\n",
       "      <th>398</th>\n",
       "      <td>15755018</td>\n",
       "      <td>Male</td>\n",
       "      <td>36</td>\n",
       "      <td>33000</td>\n",
       "      <td>0</td>\n",
       "    </tr>\n",
       "    <tr>\n",
       "      <th>399</th>\n",
       "      <td>15594041</td>\n",
       "      <td>Female</td>\n",
       "      <td>49</td>\n",
       "      <td>36000</td>\n",
       "      <td>1</td>\n",
       "    </tr>\n",
       "  </tbody>\n",
       "</table>\n",
       "<p>400 rows × 5 columns</p>\n",
       "</div>"
      ],
      "text/plain": [
       "      User ID  Gender  Age  EstimatedSalary  Purchased\n",
       "0    15624510    Male   19            19000          0\n",
       "1    15810944    Male   35            20000          0\n",
       "2    15668575  Female   26            43000          0\n",
       "3    15603246  Female   27            57000          0\n",
       "4    15804002    Male   19            76000          0\n",
       "..        ...     ...  ...              ...        ...\n",
       "395  15691863  Female   46            41000          1\n",
       "396  15706071    Male   51            23000          1\n",
       "397  15654296  Female   50            20000          1\n",
       "398  15755018    Male   36            33000          0\n",
       "399  15594041  Female   49            36000          1\n",
       "\n",
       "[400 rows x 5 columns]"
      ]
     },
     "execution_count": 3,
     "metadata": {},
     "output_type": "execute_result"
    }
   ],
   "source": [
    "df"
   ]
  },
  {
   "cell_type": "code",
   "execution_count": 28,
   "id": "7d7b54d0",
   "metadata": {},
   "outputs": [],
   "source": [
    "df.drop('Gender',axis=1,inplace=True)"
   ]
  },
  {
   "cell_type": "code",
   "execution_count": 29,
   "id": "65058c96",
   "metadata": {},
   "outputs": [],
   "source": [
    "x=df.drop(['Purchased'],axis=1)"
   ]
  },
  {
   "cell_type": "code",
   "execution_count": 30,
   "id": "02d949f3",
   "metadata": {},
   "outputs": [
    {
     "data": {
      "text/html": [
       "<div>\n",
       "<style scoped>\n",
       "    .dataframe tbody tr th:only-of-type {\n",
       "        vertical-align: middle;\n",
       "    }\n",
       "\n",
       "    .dataframe tbody tr th {\n",
       "        vertical-align: top;\n",
       "    }\n",
       "\n",
       "    .dataframe thead th {\n",
       "        text-align: right;\n",
       "    }\n",
       "</style>\n",
       "<table border=\"1\" class=\"dataframe\">\n",
       "  <thead>\n",
       "    <tr style=\"text-align: right;\">\n",
       "      <th></th>\n",
       "      <th>User ID</th>\n",
       "      <th>Age</th>\n",
       "      <th>EstimatedSalary</th>\n",
       "    </tr>\n",
       "  </thead>\n",
       "  <tbody>\n",
       "    <tr>\n",
       "      <th>0</th>\n",
       "      <td>15624510</td>\n",
       "      <td>19</td>\n",
       "      <td>19000</td>\n",
       "    </tr>\n",
       "    <tr>\n",
       "      <th>1</th>\n",
       "      <td>15810944</td>\n",
       "      <td>35</td>\n",
       "      <td>20000</td>\n",
       "    </tr>\n",
       "    <tr>\n",
       "      <th>2</th>\n",
       "      <td>15668575</td>\n",
       "      <td>26</td>\n",
       "      <td>43000</td>\n",
       "    </tr>\n",
       "    <tr>\n",
       "      <th>3</th>\n",
       "      <td>15603246</td>\n",
       "      <td>27</td>\n",
       "      <td>57000</td>\n",
       "    </tr>\n",
       "    <tr>\n",
       "      <th>4</th>\n",
       "      <td>15804002</td>\n",
       "      <td>19</td>\n",
       "      <td>76000</td>\n",
       "    </tr>\n",
       "    <tr>\n",
       "      <th>...</th>\n",
       "      <td>...</td>\n",
       "      <td>...</td>\n",
       "      <td>...</td>\n",
       "    </tr>\n",
       "    <tr>\n",
       "      <th>395</th>\n",
       "      <td>15691863</td>\n",
       "      <td>46</td>\n",
       "      <td>41000</td>\n",
       "    </tr>\n",
       "    <tr>\n",
       "      <th>396</th>\n",
       "      <td>15706071</td>\n",
       "      <td>51</td>\n",
       "      <td>23000</td>\n",
       "    </tr>\n",
       "    <tr>\n",
       "      <th>397</th>\n",
       "      <td>15654296</td>\n",
       "      <td>50</td>\n",
       "      <td>20000</td>\n",
       "    </tr>\n",
       "    <tr>\n",
       "      <th>398</th>\n",
       "      <td>15755018</td>\n",
       "      <td>36</td>\n",
       "      <td>33000</td>\n",
       "    </tr>\n",
       "    <tr>\n",
       "      <th>399</th>\n",
       "      <td>15594041</td>\n",
       "      <td>49</td>\n",
       "      <td>36000</td>\n",
       "    </tr>\n",
       "  </tbody>\n",
       "</table>\n",
       "<p>400 rows × 3 columns</p>\n",
       "</div>"
      ],
      "text/plain": [
       "      User ID  Age  EstimatedSalary\n",
       "0    15624510   19            19000\n",
       "1    15810944   35            20000\n",
       "2    15668575   26            43000\n",
       "3    15603246   27            57000\n",
       "4    15804002   19            76000\n",
       "..        ...  ...              ...\n",
       "395  15691863   46            41000\n",
       "396  15706071   51            23000\n",
       "397  15654296   50            20000\n",
       "398  15755018   36            33000\n",
       "399  15594041   49            36000\n",
       "\n",
       "[400 rows x 3 columns]"
      ]
     },
     "execution_count": 30,
     "metadata": {},
     "output_type": "execute_result"
    }
   ],
   "source": [
    "x"
   ]
  },
  {
   "cell_type": "code",
   "execution_count": 32,
   "id": "83a78ef4",
   "metadata": {},
   "outputs": [
    {
     "data": {
      "text/plain": [
       "0      0\n",
       "1      0\n",
       "2      0\n",
       "3      0\n",
       "4      0\n",
       "      ..\n",
       "395    1\n",
       "396    1\n",
       "397    1\n",
       "398    0\n",
       "399    1\n",
       "Name: Purchased, Length: 400, dtype: int64"
      ]
     },
     "execution_count": 32,
     "metadata": {},
     "output_type": "execute_result"
    }
   ],
   "source": [
    "y=df['Purchased']\n",
    "y"
   ]
  },
  {
   "cell_type": "code",
   "execution_count": 33,
   "id": "38453e9b",
   "metadata": {},
   "outputs": [],
   "source": [
    "df['Purchased'].replace(to_replace='Male',value=10,inplace=True)"
   ]
  },
  {
   "cell_type": "code",
   "execution_count": 34,
   "id": "ad7fffcf",
   "metadata": {},
   "outputs": [],
   "source": [
    "from sklearn.model_selection import train_test_split\n",
    "xtrain, xtest, ytrain, ytest =train_test_split(x, y, test_size =0.2,random_state = 0)"
   ]
  },
  {
   "cell_type": "code",
   "execution_count": 59,
   "id": "4a9acba4",
   "metadata": {},
   "outputs": [],
   "source": [
    "#The fit_transform method is used to calculate the mean and standard \n",
    "#deviation of the training data (xtrain) and then transform it by centering it around the mean and scaling it to have unit variance.\n",
    "#The transform method is used to apply the same scaling transformation learned from the training data to the test\n",
    "#data (xtest). This ensures that the test data is scaled using the same mean and standard deviation as the training data.\n",
    "from sklearn.preprocessing import StandardScaler\n",
    "sc=StandardScaler()\n",
    "xtrain=sc.fit_transform(xtrain)\n",
    "xtest=sc.transform(xtest)"
   ]
  },
  {
   "cell_type": "code",
   "execution_count": 60,
   "id": "4ca027d7",
   "metadata": {},
   "outputs": [
    {
     "data": {
      "text/plain": [
       "array([[ 4.88966473e-01, -7.98950822e-01,  4.94607583e-01],\n",
       "       [-5.50592839e-01, -2.12648508e-02, -5.77359062e-01],\n",
       "       [ 1.21526737e+00, -3.12897090e-01,  1.46942725e-01],\n",
       "       [ 6.70428177e-01, -7.98950822e-01,  2.62831011e-01],\n",
       "       [-7.54886252e-01, -3.12897090e-01, -5.77359062e-01],\n",
       "       [ 1.74256773e+00, -1.09058306e+00, -1.44652121e+00],\n",
       "       [-1.15026219e+00, -7.01740076e-01, -1.59138156e+00],\n",
       "       [-1.50619343e-01, -2.15686344e-01,  2.14601566e+00],\n",
       "       [-3.55608066e-01, -1.96547978e+00, -5.58617754e-02],\n",
       "       [-9.75185983e-01,  8.53631867e-01, -7.80163563e-01],\n",
       "       [-2.52081338e-02, -7.98950822e-01, -6.06331134e-01],\n",
       "       [ 1.54471657e+00, -9.93372315e-01, -4.32498705e-01],\n",
       "       [ 1.16706395e+00, -1.18475597e-01, -4.32498705e-01],\n",
       "       [-1.58913047e+00,  7.59458956e-02,  2.04886868e-01],\n",
       "       [ 7.79563458e-01, -1.77105829e+00,  4.65635512e-01],\n",
       "       [ 1.38930771e+00, -6.04529329e-01,  1.36376973e+00],\n",
       "       [ 9.84339331e-01, -1.18475597e-01,  2.04886868e-01],\n",
       "       [ 1.65607968e+00, -1.86826903e+00,  4.36663440e-01],\n",
       "       [-5.24625142e-01,  1.63131784e+00,  1.74040666e+00],\n",
       "       [ 2.41606414e-01, -3.12897090e-01, -1.38857706e+00],\n",
       "       [-1.15717272e+00, -3.12897090e-01, -6.64275277e-01],\n",
       "       [ 7.80471618e-01,  8.53631867e-01,  2.14601566e+00],\n",
       "       [-1.84944950e-01,  2.70367388e-01, -5.48386991e-01],\n",
       "       [ 5.49245588e-01,  8.53631867e-01,  1.01610487e+00],\n",
       "       [-1.08952899e+00, -1.47942605e+00, -1.21474464e+00],\n",
       "       [ 8.89138629e-01,  1.04805336e+00,  2.05909944e+00],\n",
       "       [-3.39658507e-01, -9.93372315e-01,  4.94607583e-01],\n",
       "       [ 9.20154463e-02, -8.96161568e-01,  2.91803083e-01],\n",
       "       [-8.53265514e-01, -1.18475597e-01, -2.29694204e-01],\n",
       "       [-1.51345521e+00, -6.04529329e-01,  4.65635512e-01],\n",
       "       [-1.47843429e+00, -1.67384754e+00,  5.23579655e-01],\n",
       "       [-7.60704152e-01, -1.18475597e-01,  2.62831011e-01],\n",
       "       [ 1.75035804e+00,  1.82573933e+00, -2.87638347e-01],\n",
       "       [-9.79542313e-01, -1.18475597e-01, -4.90442848e-01],\n",
       "       [ 3.81278572e-01, -1.38221530e+00, -3.45582490e-01],\n",
       "       [ 7.88049077e-01, -1.96547978e+00, -5.19414919e-01],\n",
       "       [-9.08226882e-02, -1.57663679e+00,  3.20775154e-01],\n",
       "       [-1.55447849e+00, -4.10107836e-01, -7.80163563e-01],\n",
       "       [-2.53071135e-01, -7.01740076e-01, -1.04091221e+00],\n",
       "       [-1.37870698e+00,  1.04805336e+00, -9.82968063e-01],\n",
       "       [ 1.06549193e+00, -1.09058306e+00,  5.23579655e-01],\n",
       "       [-2.39391976e-01,  2.70367388e-01, -5.19414919e-01],\n",
       "       [-1.32190441e+00, -1.09058306e+00,  4.07691369e-01],\n",
       "       [ 1.69914633e+00, -3.12897090e-01, -1.44652121e+00],\n",
       "       [ 2.00029717e-01,  4.64788881e-01,  1.21890937e+00],\n",
       "       [-5.15103652e-01, -1.09058306e+00, -3.45582490e-01],\n",
       "       [ 1.45715009e+00, -1.18475597e-01,  2.91803083e-01],\n",
       "       [ 8.35145683e-01,  1.33968560e+00,  5.81523798e-01],\n",
       "       [ 1.01321598e+00, -1.18779381e+00, -1.15680049e+00],\n",
       "       [-1.09283526e+00,  1.04805336e+00,  4.65635512e-01],\n",
       "       [ 1.19747311e+00,  1.82573933e+00,  1.50863009e+00],\n",
       "       [-9.70148534e-01, -4.10107836e-01, -1.30166085e+00],\n",
       "       [-1.76683183e+00, -3.12897090e-01, -3.74554562e-01],\n",
       "       [-1.70662366e+00, -4.10107836e-01,  1.30582558e+00],\n",
       "       [-1.15694568e+00,  2.02016082e+00,  5.23579655e-01],\n",
       "       [ 7.23725813e-01,  6.59210374e-01, -1.09885635e+00],\n",
       "       [ 7.62251660e-01, -8.96161568e-01,  3.78719297e-01],\n",
       "       [-1.70893663e+00, -1.18779381e+00,  2.91803083e-01],\n",
       "       [ 1.44193841e+00,  1.04805336e+00, -1.21474464e+00],\n",
       "       [-7.36808194e-01, -1.47942605e+00, -1.44652121e+00],\n",
       "       [-1.39522414e+00, -6.04529329e-01, -1.50446535e+00],\n",
       "       [ 1.42143386e+00,  2.11737157e+00, -8.09135634e-01],\n",
       "       [ 1.60063936e+00, -1.86826903e+00,  1.75914797e-01],\n",
       "       [ 1.19444714e-01, -2.15686344e-01,  8.42272441e-01],\n",
       "       [-4.13418121e-01, -1.86826903e+00, -1.27268878e+00],\n",
       "       [ 1.18546837e+00,  2.11737157e+00,  3.78719297e-01],\n",
       "       [ 7.83579228e-01, -1.38221530e+00,  5.52551726e-01],\n",
       "       [ 5.33139939e-01, -1.09058306e+00, -3.45582490e-01],\n",
       "       [-1.21855865e+00,  1.73156642e-01, -6.64275277e-01],\n",
       "       [ 3.78752752e-01,  3.67578135e-01,  2.08236764e-03],\n",
       "       [ 5.14746197e-02, -6.04529329e-01,  2.31984809e+00],\n",
       "       [ 1.70245260e+00, -3.12897090e-01,  2.04886868e-01],\n",
       "       [-1.61799293e+00, -1.57663679e+00, -2.00722133e-01],\n",
       "       [-5.91928306e-01,  6.59210374e-01, -1.38857706e+00],\n",
       "       [ 1.40000697e+00, -1.09058306e+00,  5.52551726e-01],\n",
       "       [-8.83036131e-01, -1.96547978e+00,  3.49747226e-01],\n",
       "       [ 1.09392869e+00,  3.67578135e-01,  2.62831011e-01],\n",
       "       [-1.32153547e+00,  1.73156642e-01, -2.87638347e-01],\n",
       "       [ 1.24344871e+00,  1.43689635e+00, -1.04091221e+00],\n",
       "       [-7.32565384e-01,  8.53631867e-01,  1.07404901e+00]])"
      ]
     },
     "execution_count": 60,
     "metadata": {},
     "output_type": "execute_result"
    }
   ],
   "source": [
    "xtest"
   ]
  },
  {
   "cell_type": "code",
   "execution_count": 37,
   "id": "4444902a",
   "metadata": {},
   "outputs": [
    {
     "data": {
      "text/plain": [
       "LogisticRegression()"
      ]
     },
     "execution_count": 37,
     "metadata": {},
     "output_type": "execute_result"
    }
   ],
   "source": [
    "from sklearn.linear_model import LogisticRegression\n",
    "ls=LogisticRegression()\n",
    "ls.fit(xtrain,ytrain)"
   ]
  },
  {
   "cell_type": "code",
   "execution_count": 38,
   "id": "7438ce83",
   "metadata": {},
   "outputs": [],
   "source": [
    "ytrain_pred=ls.predict(xtrain)\n",
    "ytest_pred=ls.predict(xtest)"
   ]
  },
  {
   "cell_type": "code",
   "execution_count": 39,
   "id": "63b7d081",
   "metadata": {},
   "outputs": [
    {
     "data": {
      "text/plain": [
       "array([1, 1, 0, 0, 1, 1, 0, 1, 0, 0, 0, 1, 0, 0, 0, 0, 0, 0, 1, 1, 0, 0,\n",
       "       0, 1, 1, 1, 0, 0, 0, 0, 0, 0, 0, 1, 1, 1, 1, 0, 1, 1, 0, 1, 1, 1,\n",
       "       0, 0, 1, 1, 1, 0, 0, 1, 0, 1, 1, 0, 1, 0, 0, 0, 0, 0, 0, 1, 0, 1,\n",
       "       0, 1, 1, 0, 0, 0, 0, 0, 1, 0, 1, 0, 0, 1, 0, 0, 0, 1, 0, 0, 0, 0,\n",
       "       0, 0, 0, 0, 0, 0, 1, 1, 0, 0, 1, 1, 0, 0, 0, 0, 0, 1, 0, 0, 1, 1,\n",
       "       0, 1, 1, 0, 0, 0, 1, 1, 1, 0, 0, 0, 1, 1, 1, 1, 1, 0, 1, 0, 0, 0,\n",
       "       0, 0, 0, 0, 0, 0, 0, 0, 0, 0, 0, 0, 1, 0, 0, 0, 0, 0, 1, 0, 1, 0,\n",
       "       0, 0, 0, 0, 0, 0, 0, 0, 1, 0, 1, 0, 0, 0, 0, 0, 0, 0, 0, 0, 0, 1,\n",
       "       0, 0, 0, 0, 0, 1, 0, 1, 1, 0, 0, 0, 0, 0, 1, 1, 1, 0, 1, 0, 1, 0,\n",
       "       1, 0, 0, 0, 1, 0, 0, 1, 0, 0, 0, 1, 1, 0, 1, 0, 1, 0, 0, 0, 0, 0,\n",
       "       1, 1, 0, 0, 0, 0, 0, 1, 0, 0, 0, 0, 0, 0, 1, 1, 1, 0, 0, 0, 0, 0,\n",
       "       0, 1, 1, 0, 0, 0, 0, 1, 0, 0, 0, 0, 1, 0, 1, 0, 1, 0, 0, 0, 1, 0,\n",
       "       0, 0, 1, 0, 1, 0, 0, 0, 0, 0, 1, 0, 0, 0, 0, 0, 1, 1, 0, 0, 1, 0,\n",
       "       0, 0, 0, 0, 1, 0, 1, 0, 0, 0, 0, 0, 1, 0, 1, 0, 0, 0, 0, 0, 0, 1,\n",
       "       1, 1, 1, 0, 0, 0, 0, 0, 0, 0, 0, 0], dtype=int64)"
      ]
     },
     "execution_count": 39,
     "metadata": {},
     "output_type": "execute_result"
    }
   ],
   "source": [
    "ytrain_pred"
   ]
  },
  {
   "cell_type": "code",
   "execution_count": 40,
   "id": "872a1360",
   "metadata": {},
   "outputs": [
    {
     "data": {
      "text/plain": [
       "array([0, 0, 0, 0, 0, 0, 0, 1, 0, 1, 0, 0, 0, 0, 0, 0, 0, 0, 1, 0, 0, 1,\n",
       "       0, 1, 0, 1, 0, 0, 0, 0, 0, 0, 1, 0, 0, 0, 0, 0, 0, 1, 0, 0, 0, 0,\n",
       "       1, 0, 0, 1, 0, 1, 1, 0, 0, 0, 1, 0, 0, 0, 0, 0, 0, 1, 0, 0, 0, 1,\n",
       "       0, 0, 0, 0, 1, 0, 0, 0, 0, 0, 1, 0, 1, 1], dtype=int64)"
      ]
     },
     "execution_count": 40,
     "metadata": {},
     "output_type": "execute_result"
    }
   ],
   "source": [
    "ytest_pred"
   ]
  },
  {
   "cell_type": "code",
   "execution_count": 42,
   "id": "4586f871",
   "metadata": {},
   "outputs": [
    {
     "data": {
      "text/plain": [
       "336    1\n",
       "64     0\n",
       "55     0\n",
       "106    0\n",
       "300    1\n",
       "      ..\n",
       "323    1\n",
       "192    0\n",
       "117    0\n",
       "47     0\n",
       "172    0\n",
       "Name: Purchased, Length: 320, dtype: int64"
      ]
     },
     "execution_count": 42,
     "metadata": {},
     "output_type": "execute_result"
    }
   ],
   "source": [
    "ytrain"
   ]
  },
  {
   "cell_type": "code",
   "execution_count": null,
   "id": "80a1f65d",
   "metadata": {},
   "outputs": [],
   "source": []
  },
  {
   "cell_type": "code",
   "execution_count": 43,
   "id": "73d85d63",
   "metadata": {},
   "outputs": [
    {
     "data": {
      "text/plain": [
       "132    0\n",
       "309    0\n",
       "341    0\n",
       "196    0\n",
       "246    0\n",
       "      ..\n",
       "14     0\n",
       "363    0\n",
       "304    0\n",
       "361    1\n",
       "329    1\n",
       "Name: Purchased, Length: 80, dtype: int64"
      ]
     },
     "execution_count": 43,
     "metadata": {},
     "output_type": "execute_result"
    }
   ],
   "source": [
    "ytest"
   ]
  },
  {
   "cell_type": "code",
   "execution_count": 46,
   "id": "aa447591",
   "metadata": {},
   "outputs": [
    {
     "name": "stdout",
     "output_type": "stream",
     "text": [
      "[[181  18]\n",
      " [ 38  83]]\n"
     ]
    }
   ],
   "source": [
    "from sklearn.metrics import confusion_matrix,classification_report,accuracy_score\n",
    "cm=confusion_matrix(ytrain,ytrain_pred)\n",
    "print(cm)\n"
   ]
  },
  {
   "cell_type": "raw",
   "id": "292f00a8",
   "metadata": {},
   "source": [
    "score=accuracy_score(ytest,ytest_pred)\n",
    "score"
   ]
  },
  {
   "cell_type": "code",
   "execution_count": 47,
   "id": "35ac32d1",
   "metadata": {},
   "outputs": [
    {
     "data": {
      "text/plain": [
       "0.9125"
      ]
     },
     "execution_count": 47,
     "metadata": {},
     "output_type": "execute_result"
    }
   ],
   "source": [
    "score=accuracy_score(ytest,ytest_pred)\n",
    "score"
   ]
  },
  {
   "cell_type": "code",
   "execution_count": 48,
   "id": "c6d72f6d",
   "metadata": {},
   "outputs": [
    {
     "name": "stdout",
     "output_type": "stream",
     "text": [
      "              precision    recall  f1-score   support\n",
      "\n",
      "           0       0.92      0.97      0.94        58\n",
      "           1       0.89      0.77      0.83        22\n",
      "\n",
      "    accuracy                           0.91        80\n",
      "   macro avg       0.91      0.87      0.89        80\n",
      "weighted avg       0.91      0.91      0.91        80\n",
      "\n"
     ]
    }
   ],
   "source": [
    "cr=classification_report(ytest,ytest_pred)\n",
    "print(cr)"
   ]
  },
  {
   "cell_type": "code",
   "execution_count": 49,
   "id": "f690e8c4",
   "metadata": {},
   "outputs": [
    {
     "name": "stdout",
     "output_type": "stream",
     "text": [
      "Defaulting to user installation because normal site-packages is not writeable\n",
      "Requirement already satisfied: seaborn in c:\\programdata\\anaconda3\\lib\\site-packages (0.11.2)\n",
      "Requirement already satisfied: scipy>=1.0 in c:\\programdata\\anaconda3\\lib\\site-packages (from seaborn) (1.9.1)\n",
      "Requirement already satisfied: matplotlib>=2.2 in c:\\programdata\\anaconda3\\lib\\site-packages (from seaborn) (3.5.2)\n",
      "Requirement already satisfied: numpy>=1.15 in c:\\programdata\\anaconda3\\lib\\site-packages (from seaborn) (1.21.5)\n",
      "Requirement already satisfied: pandas>=0.23 in c:\\programdata\\anaconda3\\lib\\site-packages (from seaborn) (1.4.4)\n",
      "Requirement already satisfied: cycler>=0.10 in c:\\programdata\\anaconda3\\lib\\site-packages (from matplotlib>=2.2->seaborn) (0.11.0)\n",
      "Requirement already satisfied: fonttools>=4.22.0 in c:\\programdata\\anaconda3\\lib\\site-packages (from matplotlib>=2.2->seaborn) (4.25.0)\n",
      "Requirement already satisfied: pyparsing>=2.2.1 in c:\\programdata\\anaconda3\\lib\\site-packages (from matplotlib>=2.2->seaborn) (3.0.9)\n",
      "Requirement already satisfied: packaging>=20.0 in c:\\programdata\\anaconda3\\lib\\site-packages (from matplotlib>=2.2->seaborn) (21.3)\n",
      "Requirement already satisfied: python-dateutil>=2.7 in c:\\programdata\\anaconda3\\lib\\site-packages (from matplotlib>=2.2->seaborn) (2.8.2)\n",
      "Requirement already satisfied: pillow>=6.2.0 in c:\\programdata\\anaconda3\\lib\\site-packages (from matplotlib>=2.2->seaborn) (9.2.0)\n",
      "Requirement already satisfied: kiwisolver>=1.0.1 in c:\\programdata\\anaconda3\\lib\\site-packages (from matplotlib>=2.2->seaborn) (1.4.2)\n",
      "Requirement already satisfied: pytz>=2020.1 in c:\\programdata\\anaconda3\\lib\\site-packages (from pandas>=0.23->seaborn) (2022.1)\n",
      "Requirement already satisfied: six>=1.5 in c:\\programdata\\anaconda3\\lib\\site-packages (from python-dateutil>=2.7->matplotlib>=2.2->seaborn) (1.16.0)\n",
      "Note: you may need to restart the kernel to use updated packages.\n"
     ]
    }
   ],
   "source": [
    "pip install seaborn\n",
    "# Seaborn is a Python library that helps you create pretty and informative graphs and charts easily. It's like having a special tool \n",
    "#that makes your data look better and makes it easier for you to understand.\n",
    "#Seaborn is a handy tool for anyone working with data in Python. It makes it easier to create attractive and informative graphs,\n",
    "#which in turn helps you explore and understand your data more effectively.\n",
    "\n",
    "\n",
    "\n",
    "\n",
    "\n",
    "\n"
   ]
  },
  {
   "cell_type": "code",
   "execution_count": 50,
   "id": "48c9abc2",
   "metadata": {},
   "outputs": [],
   "source": [
    "import seaborn as sns"
   ]
  },
  {
   "cell_type": "code",
   "execution_count": 52,
   "id": "fb8f9031",
   "metadata": {},
   "outputs": [
    {
     "data": {
      "text/plain": [
       "<AxesSubplot:>"
      ]
     },
     "execution_count": 52,
     "metadata": {},
     "output_type": "execute_result"
    },
    {
     "data": {
      "image/png": "[encoded data removed]",
      "text/plain": [
       "<Figure size 640x480 with 2 Axes>"
      ]
     },
     "metadata": {},
     "output_type": "display_data"
    }
   ],
   "source": [
    "sns.heatmap(cm,annot=True)"
   ]
  },
  {
   "cell_type": "code",
   "execution_count": 55,
   "id": "9b520576",
   "metadata": {},
   "outputs": [
    {
     "name": "stdout",
     "output_type": "stream",
     "text": [
      "56 2 56 17\n"
     ]
    }
   ],
   "source": [
    "#.ravel() allows you to access and assign these individual values to the respective variables tn, fp, fn, and tp.\n",
    "tn,fp,fn,tp=confusion_matrix(ytest,ytest_pred).ravel()\n",
    "print(tn,fp,tn,tp)"
   ]
  },
  {
   "cell_type": "code",
   "execution_count": 56,
   "id": "15fbdabb",
   "metadata": {},
   "outputs": [
    {
     "name": "stdout",
     "output_type": "stream",
     "text": [
      "Error rate :  0.0875\n"
     ]
    }
   ],
   "source": [
    "print(\"Error rate : \",(fp+fn)/(tn+fp+fn+tp))"
   ]
  },
  {
   "cell_type": "code",
   "execution_count": 57,
   "id": "d65564b4",
   "metadata": {},
   "outputs": [
    {
     "name": "stdout",
     "output_type": "stream",
     "text": [
      "recall: 0.7727272727272727\n"
     ]
    }
   ],
   "source": [
    "print(\"recall:\",tp/(tp+fn))"
   ]
  },
  {
   "cell_type": "code",
   "execution_count": 58,
   "id": "a56234c5",
   "metadata": {},
   "outputs": [
    {
     "name": "stdout",
     "output_type": "stream",
     "text": [
      "Precision : 0.8947368421052632\n"
     ]
    }
   ],
   "source": [
    "print(\"Precision :\",tp/(tp+fp))"
   ]
  },
  {
   "cell_type": "code",
   "execution_count": null,
   "id": "21d4849f",
   "metadata": {},
   "outputs": [],
   "source": []
  }
 ],
 "metadata": {
  "kernelspec": {
   "display_name": "Python 3 (ipykernel)",
   "language": "python",
   "name": "python3"
  },
  "language_info": {
   "codemirror_mode": {
    "name": "ipython",
    "version": 3
   },
   "file_extension": ".py",
   "mimetype": "text/x-python",
   "name": "python",
   "nbconvert_exporter": "python",
   "pygments_lexer": "ipython3",
   "version": "3.9.13"
  }
 },
 "nbformat": 4,
 "nbformat_minor": 5
}
